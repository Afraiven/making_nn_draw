{
 "cells": [
  {
   "cell_type": "code",
   "execution_count": 1,
   "metadata": {},
   "outputs": [
    {
     "name": "stdout",
     "output_type": "stream",
     "text": [
      "Data saved to output_data_rnn.json\n"
     ]
    }
   ],
   "source": [
    "import json\n",
    "import random\n",
    "import numpy as np\n",
    "import matplotlib.pyplot as plt\n",
    "import json\n",
    "\n",
    "file_path = '../data/full_simplified_apple.ndjson'\n",
    "\n",
    "data_list = []\n",
    "\n",
    "with open(file_path, 'r', encoding='utf-8') as file:\n",
    "    idd = 0\n",
    "    for line in file:\n",
    "        data = json.loads(line)\n",
    "        points = [stroke for stroke in data['drawing']]\n",
    "        x, y = [], []\n",
    "        for stroke in points:\n",
    "            x += stroke[0]\n",
    "            y += stroke[1]\n",
    "        data_list.append(list(zip(x, y)))\n",
    "\n",
    "\n",
    "output_file_path = \"output_data_rnn.json\"\n",
    "with open(output_file_path, 'w', encoding='utf-8') as output_file:\n",
    "    json.dump(data_list, output_file)\n",
    "\n",
    "print(f\"Data saved to {output_file_path}\")"
   ]
  },
  {
   "cell_type": "code",
   "execution_count": 2,
   "metadata": {},
   "outputs": [
    {
     "name": "stdout",
     "output_type": "stream",
     "text": [
      "[(255, 0), (255, 0), (255, 0), (255, 0), (255, 0), (255, 0), (255, 0), (254, 1), (131, 50), (124, 39), (114, 39), (69, 59), (37, 89), (10, 127), (0, 172), (0, 194), (5, 215), (16, 233), (31, 244), (50, 249), (68, 249), (86, 241), (101, 225), (115, 203), (126, 174), (135, 143), (137, 114), (135, 88), (122, 65), (106, 45), (84, 97), (77, 85), (81, 52), (88, 34), (99, 18), (122, 4), (138, 1), (161, 2), (180, 12)]\n"
     ]
    }
   ],
   "source": [
    "print(data_list[0])"
   ]
  }
 ],
 "metadata": {
  "kernelspec": {
   "display_name": "Python 3",
   "language": "python",
   "name": "python3"
  },
  "language_info": {
   "codemirror_mode": {
    "name": "ipython",
    "version": 3
   },
   "file_extension": ".py",
   "mimetype": "text/x-python",
   "name": "python",
   "nbconvert_exporter": "python",
   "pygments_lexer": "ipython3",
   "version": "3.12.4"
  }
 },
 "nbformat": 4,
 "nbformat_minor": 2
}
